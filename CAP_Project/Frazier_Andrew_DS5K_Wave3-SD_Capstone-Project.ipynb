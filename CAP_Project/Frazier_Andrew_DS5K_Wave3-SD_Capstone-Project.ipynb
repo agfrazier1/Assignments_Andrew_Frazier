{
 "cells": [
  {
   "cell_type": "markdown",
   "metadata": {},
   "source": [
    "# Employee Attrition Sets Us Back - Anticipating Attrition Factors\n",
    "## A Case Study Using IBM's Notional HR Data"
   ]
  },
  {
   "cell_type": "markdown",
   "metadata": {},
   "source": [
    "The are many outright and hidden costs to employees chosing to leave the Firm.  Whether it's the cost of recruiting, hiring, on-boarding and training another employee to replace them; the cost of lost revenue and productivity; the impact to our reputation with customers; or the setback in our goal to build out an Analytics capability which will help transform our client spaces over time - there is no question that losing talent hurts the business.\n",
    "\n",
    "All that said - attrition at some level is a fact of life.  The questions are: How can data help us understand what drives attrition and if we understand some of the factors that help us predict an increased probality that an employee may leave the team - can we take action to keep our best performers?"
   ]
  },
  {
   "cell_type": "markdown",
   "metadata": {},
   "source": [
    "### Hypothisis"
   ]
  },
  {
   "cell_type": "markdown",
   "metadata": {},
   "source": [
    "A Hypothisis for this data science project is that there are one or more variables in an HR dataset which can help an organization predict the potential that an employee may to resign with a reasonable degree of confidence."
   ]
  },
  {
   "cell_type": "markdown",
   "metadata": {},
   "source": [
    "### Goals, Success Measures and Risks   "
   ]
  },
  {
   "cell_type": "markdown",
   "metadata": {},
   "source": [
    "The goal for this project will be to do exploratory analysis on an HR dataset which contains some common information on employees to include if they have left the business.  This will be followed by indentification of feature variables which have a strong positive or negative relationship on employees who stay or leave.  Some initial measures of success will include the indentification of one or two variables which have a strong correlation to attrition/retention and then the ability to successfully build one or more models which can be used to predict if an employee is likely to stay or leave an organization."
   ]
  },
  {
   "cell_type": "markdown",
   "metadata": {},
   "source": [
    "There are many inherent risks and limitations in this analysis.  Some of them include the possibility that the strongest predictors for attrition are not contained in the data set or that the data has quality limitations.  It is likely that even strong predictors are by no means a guarentee that an employee may leave - and so the use of this information could have negative consequences if not handled correctly.  Another risk for the goals of this project, is that the results from this data set are not transferable to other populations of employees.  There are also the risks/limitations of the ability to consistently collect data across different organizations."
   ]
  },
  {
   "cell_type": "markdown",
   "metadata": {},
   "source": [
    "### Source and DataSet"
   ]
  },
  {
   "cell_type": "markdown",
   "metadata": {},
   "source": [
    "The dataset I have chosen for this project is from Kaggle datasets, titled \"IBM HR Analytics Employee Attrition & Performance: WA_Fn-UseC_-HR-Employee-Attrition.csv\".  It is a fictional dataset provided by IBM data scientists and will serve as a useful exercise for this type of problem.  Perhaps the methodology and approaches in this capstone project can be applied to other employee datasets to understand if the model produces similar predictive power when tested against real population datasets."
   ]
  },
  {
   "cell_type": "code",
   "execution_count": null,
   "metadata": {},
   "outputs": [],
   "source": []
  }
 ],
 "metadata": {
  "kernelspec": {
   "display_name": "Python 3",
   "language": "python",
   "name": "python3"
  },
  "language_info": {
   "codemirror_mode": {
    "name": "ipython",
    "version": 3
   },
   "file_extension": ".py",
   "mimetype": "text/x-python",
   "name": "python",
   "nbconvert_exporter": "python",
   "pygments_lexer": "ipython3",
   "version": "3.6.5"
  }
 },
 "nbformat": 4,
 "nbformat_minor": 2
}
